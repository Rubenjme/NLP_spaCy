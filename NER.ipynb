{
 "cells": [
  {
   "cell_type": "markdown",
   "metadata": {},
   "source": [
    "# **<span style=\"color: #0098cd;\">Proyecto: Named-Entity Recognition</span>**\n"
   ]
  },
  {
   "cell_type": "markdown",
   "metadata": {},
   "source": [
    "## **Objetivos** "
   ]
  },
  {
   "cell_type": "markdown",
   "metadata": {},
   "source": [
    "## **Descripción**"
   ]
  },
  {
   "cell_type": "markdown",
   "metadata": {},
   "source": [
    "### **Carga y preprocesamiento del texto**"
   ]
  },
  {
   "cell_type": "code",
   "execution_count": 7,
   "metadata": {},
   "outputs": [],
   "source": [
    "#!pip install spacy\n",
    "#!pip install chardet\n",
    "#python -m spacy download es_core_news_md\n",
    "\n",
    "import pathlib \n",
    "import spacy\n",
    "import pandas as pd\n",
    "from spacy import displacy\n",
    "import csv\n",
    "import chardet"
   ]
  },
  {
   "cell_type": "markdown",
   "metadata": {},
   "source": [
    "#### **Carga del modelo y detección de codificación**"
   ]
  },
  {
   "cell_type": "code",
   "execution_count": 8,
   "metadata": {},
   "outputs": [],
   "source": [
    "try:\n",
    "    nlp = spacy.load(\"es_core_news_md\")  # Cargo el modelo de Spacy para español\n",
    "except OSError:\n",
    "    print(\"El modelo 'es_core_news_md' no está instalado.\")"
   ]
  },
  {
   "cell_type": "code",
   "execution_count": 9,
   "metadata": {},
   "outputs": [
    {
     "name": "stdout",
     "output_type": "stream",
     "text": [
      "{'encoding': 'utf-8', 'confidence': 0.99, 'language': ''}\n"
     ]
    }
   ],
   "source": [
    "filename = \"Dataset.csv\"\n",
    "\n",
    "with open(filename, \"rb\") as f:\n",
    "    rawdata = f.read(10000)           # Leo los primeros 10.000 bytes\n",
    "    result = chardet.detect(rawdata)  # Detecto la codificación\n",
    "    print(result)                     # Muestro la codificación detectada"
   ]
  },
  {
   "cell_type": "markdown",
   "metadata": {},
   "source": [
    "#### **Carga del dataset**"
   ]
  },
  {
   "cell_type": "code",
   "execution_count": 15,
   "metadata": {},
   "outputs": [],
   "source": [
    "data = pd.read_csv(filename, delimiter=';', encoding='utf-8', encoding_errors='ignore', low_memory=False)  # Cargo el archivo CSV ignorando carácteres raros."
   ]
  },
  {
   "cell_type": "markdown",
   "metadata": {},
   "source": [
    "El dataset tiene una codificación UTF-8 con un 99% de confianza, pero contiene algunos carácteres extraños que representan una cantidad despreciable de carácteres, decido ignorarlos."
   ]
  },
  {
   "cell_type": "markdown",
   "metadata": {},
   "source": [
    "### **Primera parte de preguntas**"
   ]
  },
  {
   "cell_type": "markdown",
   "metadata": {},
   "source": [
    "Preguntas a responder:\n",
    "1. ¿Cuántos registros contiene el corpus?\n",
    "2. ¿Cuántas palabras totales hay en los comentarios del corpus?\n",
    "3. ¿Cuál el número promedio de palabras en cada comentario?"
   ]
  },
  {
   "cell_type": "markdown",
   "metadata": {},
   "source": [
    "#### **<span style=\"color: #0098cd;\">1. ¿Cuántos registros contiene el corpus? ¿Hay nulos?</span>**"
   ]
  },
  {
   "cell_type": "code",
   "execution_count": 16,
   "metadata": {},
   "outputs": [
    {
     "name": "stdout",
     "output_type": "stream",
     "text": [
      "Número de registros en total: 574915\n",
      "_____________________________________\n",
      "Valores nulos por columna: \n",
      "MEDIO                        0\n",
      "SOPORTE                     34\n",
      "URL                        148\n",
      "TIPO DE MENSAJE            152\n",
      "CONTENIDO A ANALIZAR       152\n",
      "INTENSIDAD                 273\n",
      "TIPO DE ODIO            562619\n",
      "TONO HUMORISTICO        574769\n",
      "MODIFICADOR             574562\n",
      "Unnamed: 9              574912\n",
      "Unnamed: 10             574912\n",
      "Unnamed: 11             574913\n",
      "Unnamed: 12             574913\n",
      "Unnamed: 13             574913\n",
      "Unnamed: 14             574913\n",
      "Unnamed: 15             574913\n",
      "dtype: int64\n",
      "________________________________________\n"
     ]
    }
   ],
   "source": [
    "regTotal = data.shape[0]        # Obtengo el número de registros del dataset\n",
    "#regTotal = len(data)           # Otra opción para obtener el número de registros\n",
    "regNulos = data.isnull().sum()  # Obtengo el número de nulos en cada columna\n",
    "\n",
    "print(f\"Número de registros en total: {regTotal}\")\n",
    "print(\"_\"*37)\n",
    "print(f\"Valores nulos por columna: \")\n",
    "print(regNulos)\n",
    "print(\"_\"*40)"
   ]
  },
  {
   "cell_type": "code",
   "execution_count": null,
   "metadata": {},
   "outputs": [
    {
     "name": "stdout",
     "output_type": "stream",
     "text": [
      "Registros tras filtrar los nulos: 574642\n",
      "________________________________________\n",
      "Valores nulos por columna: \n",
      "MEDIO                     0\n",
      "SOPORTE                  34\n",
      "URL                     148\n",
      "TIPO DE MENSAJE         152\n",
      "CONTENIDO A ANALIZAR    152\n",
      "INTENSIDAD              273\n",
      "dtype: int64\n"
     ]
    }
   ],
   "source": [
    "data = data.drop(columns=['Unnamed: 9', 'Unnamed: 10',         # Elimino columnas innecesarias con mayoría de nulos\n",
    "                          'Unnamed: 11', 'Unnamed: 12', \n",
    "                          'Unnamed: 13', 'Unnamed: 14', \n",
    "                          'Unnamed: 15', 'TONO HUMORISTICO', \n",
    "                          'MODIFICADOR', 'TIPO DE ODIO'])\n",
    "\n",
    "\n",
    "regNoNulos = data.dropna(subset=['CONTENIDO A ANALIZAR', 'INTENSIDAD']) # Elimino los registros con nulos en las columnas 'CONTENIDO A ANALIZAR' e 'INTENSIDAD'\n",
    "print(f\"Registros tras filtrar los nulos: {len(regNoNulos)}\")\n",
    "print(\"_\"*40)\n",
    "\n",
    "regNulos = data.isnull().sum()              # Compruebo el número de nulos en cada columna de nuevo\n",
    "print(f\"Valores nulos por columna: \")\n",
    "print(regNulos)"
   ]
  },
  {
   "cell_type": "markdown",
   "metadata": {},
   "source": [
    "Elimino las columnas con mayoría de nulos ya que no aportarán información relevante y dado que el análisis se basa en el contenido de los mensajes y su \"intensidad\" de odio, elimino también los registros donde faltan estos valores."
   ]
  },
  {
   "cell_type": "markdown",
   "metadata": {},
   "source": [
    "#### **<span style=\"color: #0098cd;\">2. ¿Cuántas palabras totales hay en los comentarios del corpus?</span>**"
   ]
  },
  {
   "cell_type": "code",
   "execution_count": 34,
   "metadata": {},
   "outputs": [
    {
     "name": "stdout",
     "output_type": "stream",
     "text": [
      "Registros en la muestra: 20000\n",
      "------------------------------\n",
      "Valores nulos por columna en la muestra: \n",
      "MEDIO                    0\n",
      "SOPORTE                  3\n",
      "URL                      4\n",
      "TIPO DE MENSAJE          5\n",
      "CONTENIDO A ANALIZAR     4\n",
      "INTENSIDAD              11\n",
      "dtype: int64\n"
     ]
    }
   ],
   "source": [
    "# Selecciono una muestra de 20.000 registros aleatorios para pruebas más rápidas\n",
    "lines_number = 20000                                      # Para cargar solo un número limitado de líneas\n",
    "data_sample = data.sample(lines_number, random_state=7)   # Tomo una muestra para pruebas más rápidas\n",
    "\n",
    "print(f\"Registros en la muestra: {len(data_sample)}\")     # Verifico que se han cogido los 20000 registros.\n",
    "print(\"-\"*30)\n",
    "\n",
    "regNulos = data_sample.isnull().sum()                     # Compruebo el número de nulos en la muestra\n",
    "print(f\"Valores nulos por columna en la muestra: \")\n",
    "print(regNulos)"
   ]
  },
  {
   "cell_type": "code",
   "execution_count": 51,
   "metadata": {},
   "outputs": [
    {
     "name": "stdout",
     "output_type": "stream",
     "text": [
      "Conteo con SpaCy: 7\n"
     ]
    }
   ],
   "source": [
    "# Función para contar las palabras sin signos de puntuación\n",
    "#----------------------------------------------------------\n",
    "# is_alpha verifica que sea alfabético, es decir, que no sean signos de puntuación como -> . , ; : ! ? etc.\n",
    "# is_punct verifica que es un signo de puntuación\n",
    "# is_space verifica que es un espacio\n",
    "# Por tanto, si el token es alfabético y no es un signo de puntuación ni un espacio, lo considero una palabra.\n",
    "def CuentaPalab(mensaje):\n",
    "    doc = nlp(mensaje)\n",
    "    palabras = [token.text for token in doc if token.is_alpha and not token.is_punct and not token.is_space]\n",
    "    return len(palabras)\n",
    "\n",
    "# Ejemplo de uso de la función CuentaPalab\n",
    "ejemplo = \"Hola,  ¿cómo estás?   ¿Todo     bien? ¿Todo correcto?.\"\n",
    "print(\"Conteo con SpaCy:\", CuentaPalab(ejemplo)) # Debería dar 7"
   ]
  },
  {
   "cell_type": "code",
   "execution_count": 53,
   "metadata": {},
   "outputs": [
    {
     "name": "stdout",
     "output_type": "stream",
     "text": [
      "Palabras en total (con todo) en comentarios: 524302\n",
      "---------------------------------------------------\n",
      "Palabras en total (solo alfabéticas) en los comentarios de la muestra: 505975\n",
      "-----------------------------------------------------------------------------\n"
     ]
    }
   ],
   "source": [
    "# Cuento las palabras teniendo en cuenta los signos de puntuación\n",
    "ComentMuestra = data_sample[data_sample[\"TIPO DE MENSAJE\"] == \"COMENTARIO\"]               # Cojo solo los que cuyo TIPO DE MENSAJE es COMENTARIO\n",
    "palabTotal = ComentMuestra[\"CONTENIDO A ANALIZAR\"].apply(lambda x: len(str(x).split()))   # Cuento el número total de palabras en los comentarios\n",
    "SumapalabTotal = palabTotal.sum()\n",
    "print(f\"Palabras en total (con todo) en comentarios: {SumapalabTotal}\")\n",
    "print(\"-\"*51)\n",
    "\n",
    "# Cuento las palabras sin tener en cuenta los signos de puntuación ni espacios\n",
    "AlfTotal = ComentMuestra[\"CONTENIDO A ANALIZAR\"].apply(CuentaPalab).sum()                 # Aplico la función a cada comentario y voy sumando\n",
    "print(f\"Palabras en total (solo alfabéticas) en los comentarios de la muestra: {AlfTotal}\")\n",
    "print(\"-\"*77)\n"
   ]
  },
  {
   "cell_type": "markdown",
   "metadata": {},
   "source": [
    "Debido a los tiempos de procesamiento y a la carga computacional, para esta pregunta y para las posteriores, he seleccionado una muestra de 20.000 registros añadiendo un estado fijo para asegurar que siempre escoja los mismos registros en posteriores ejecuciones y así no distorsionar los resultados.\n",
    "\n",
    "He considerado que los signos de puntuación no son palabras."
   ]
  },
  {
   "cell_type": "markdown",
   "metadata": {},
   "source": [
    "#### **<span style=\"color: #0098cd;\">3. ¿Cuál el número promedio de palabras en cada comentario?</span>**"
   ]
  },
  {
   "cell_type": "code",
   "execution_count": 54,
   "metadata": {},
   "outputs": [
    {
     "name": "stdout",
     "output_type": "stream",
     "text": [
      "Promedio de palabras alfabéticas por comentario de la muestra: 44.02\n"
     ]
    }
   ],
   "source": [
    "PalabrasPorComentario = ComentMuestra[\"CONTENIDO A ANALIZAR\"].apply(CuentaPalab) \n",
    "\n",
    "AlfProm = PalabrasPorComentario.mean()           # Calculo el promedio\n",
    "print(f\"Promedio de palabras alfabéticas por comentario de la muestra: {AlfProm:.2f}\")"
   ]
  },
  {
   "cell_type": "markdown",
   "metadata": {},
   "source": [
    "### **Segunda parte de preguntas**"
   ]
  },
  {
   "cell_type": "markdown",
   "metadata": {},
   "source": [
    "Considerando dos grupos de comentarios (odio y no odio):"
   ]
  }
 ],
 "metadata": {
  "kernelspec": {
   "display_name": "Python 3",
   "language": "python",
   "name": "python3"
  },
  "language_info": {
   "codemirror_mode": {
    "name": "ipython",
    "version": 3
   },
   "file_extension": ".py",
   "mimetype": "text/x-python",
   "name": "python",
   "nbconvert_exporter": "python",
   "pygments_lexer": "ipython3",
   "version": "3.11.9"
  }
 },
 "nbformat": 4,
 "nbformat_minor": 4
}
