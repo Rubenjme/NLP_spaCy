{
 "cells": [
  {
   "cell_type": "markdown",
   "metadata": {},
   "source": [
    "# **<span style=\"color: #0098cd;\">Proyecto: Named-Entity Recognition</span>**\n"
   ]
  },
  {
   "cell_type": "markdown",
   "metadata": {},
   "source": [
    "## **Objetivos** "
   ]
  },
  {
   "cell_type": "markdown",
   "metadata": {},
   "source": [
    "## **Descripción**"
   ]
  },
  {
   "cell_type": "markdown",
   "metadata": {},
   "source": [
    "### **Carga y preprocesamiento del texto**"
   ]
  },
  {
   "cell_type": "code",
   "execution_count": 38,
   "metadata": {},
   "outputs": [],
   "source": [
    "#!pip install spacy\n",
    "#!pip install chardet\n",
    "#python -m spacy download es_core_news_md\n",
    "\n",
    "import pathlib \n",
    "import spacy\n",
    "import pandas as pd\n",
    "from spacy import displacy\n",
    "import csv\n",
    "import chardet"
   ]
  },
  {
   "cell_type": "markdown",
   "metadata": {},
   "source": [
    "#### **Carga del modelo y detección de codificación**"
   ]
  },
  {
   "cell_type": "code",
   "execution_count": 39,
   "metadata": {},
   "outputs": [],
   "source": [
    "try:\n",
    "    nlp = spacy.load(\"es_core_news_md\")  # Cargo el modelo de Spacy para español\n",
    "except OSError:\n",
    "    print(\"El modelo 'es_core_news_md' no está instalado.\")"
   ]
  },
  {
   "cell_type": "code",
   "execution_count": 40,
   "metadata": {},
   "outputs": [
    {
     "name": "stdout",
     "output_type": "stream",
     "text": [
      "{'encoding': 'utf-8', 'confidence': 0.99, 'language': ''}\n"
     ]
    }
   ],
   "source": [
    "filename = \"Dataset.csv\"\n",
    "\n",
    "with open(filename, \"rb\") as f:\n",
    "    rawdata = f.read(10000)           # Leo los primeros 10.000 bytes\n",
    "    result = chardet.detect(rawdata)  # Detecto la codificación\n",
    "    print(result)                     # Muestro la codificación detectada"
   ]
  },
  {
   "cell_type": "markdown",
   "metadata": {},
   "source": [
    "#### **Carga del dataset**"
   ]
  },
  {
   "cell_type": "code",
   "execution_count": 41,
   "metadata": {},
   "outputs": [],
   "source": [
    "data = pd.read_csv(filename, delimiter=';', encoding='utf-8', encoding_errors='ignore', low_memory=False)  # Cargo el archivo CSV ignorando carácteres raros."
   ]
  },
  {
   "cell_type": "markdown",
   "metadata": {},
   "source": [
    "El dataset tiene una codificación UTF-8 con un 99% de confianza, pero contiene algunos carácteres extraños que representan una cantidad despreciable de carácteres, decido ignorarlos."
   ]
  },
  {
   "cell_type": "markdown",
   "metadata": {},
   "source": [
    "### **Primera parte de preguntas**"
   ]
  },
  {
   "cell_type": "markdown",
   "metadata": {},
   "source": [
    "Preguntas a responder:\n",
    "1. ¿Cuántos registros contiene el corpus?\n",
    "2. ¿Cuántas palabras totales hay en los comentarios del corpus?\n",
    "3. ¿Cuál el número promedio de palabras en cada comentario?"
   ]
  },
  {
   "cell_type": "markdown",
   "metadata": {},
   "source": [
    "#### **<span style=\"color: #0098cd;\">1. ¿Cuántos registros contiene el corpus? ¿Hay nulos?</span>**"
   ]
  },
  {
   "cell_type": "code",
   "execution_count": 42,
   "metadata": {},
   "outputs": [
    {
     "name": "stdout",
     "output_type": "stream",
     "text": [
      "Número de registros en total: 574915\n",
      "_____________________________________\n",
      "Valores nulos por columna: \n",
      "MEDIO                        0\n",
      "SOPORTE                     34\n",
      "URL                        148\n",
      "TIPO DE MENSAJE            152\n",
      "CONTENIDO A ANALIZAR       152\n",
      "INTENSIDAD                 273\n",
      "TIPO DE ODIO            562619\n",
      "TONO HUMORISTICO        574769\n",
      "MODIFICADOR             574562\n",
      "Unnamed: 9              574912\n",
      "Unnamed: 10             574912\n",
      "Unnamed: 11             574913\n",
      "Unnamed: 12             574913\n",
      "Unnamed: 13             574913\n",
      "Unnamed: 14             574913\n",
      "Unnamed: 15             574913\n",
      "dtype: int64\n",
      "________________________________________\n"
     ]
    }
   ],
   "source": [
    "regTotal = data.shape[0]        # Obtengo el número de registros del dataset\n",
    "#regTotal = len(data)           # Otra opción para obtener el número de registros\n",
    "regNulos = data.isnull().sum()  # Obtengo el número de nulos en cada columna\n",
    "\n",
    "print(f\"Número de registros en total: {regTotal}\")\n",
    "print(\"_\"*37)\n",
    "print(f\"Valores nulos por columna: \")\n",
    "print(regNulos)\n",
    "print(\"_\"*40)"
   ]
  },
  {
   "cell_type": "code",
   "execution_count": 43,
   "metadata": {},
   "outputs": [
    {
     "name": "stdout",
     "output_type": "stream",
     "text": [
      "Registros tras filtrar los nulos: 574642\n",
      "________________________________________\n",
      "Valores nulos por columna: \n",
      "MEDIO                     0\n",
      "SOPORTE                  34\n",
      "URL                     148\n",
      "TIPO DE MENSAJE         152\n",
      "CONTENIDO A ANALIZAR    152\n",
      "INTENSIDAD              273\n",
      "dtype: int64\n"
     ]
    }
   ],
   "source": [
    "data = data.drop(columns=['Unnamed: 9', 'Unnamed: 10',         # Elimino columnas innecesarias con mayoría de nulos\n",
    "                          'Unnamed: 11', 'Unnamed: 12', \n",
    "                          'Unnamed: 13', 'Unnamed: 14', \n",
    "                          'Unnamed: 15', 'TONO HUMORISTICO', \n",
    "                          'MODIFICADOR', 'TIPO DE ODIO'])\n",
    "\n",
    "\n",
    "regNoNulos = data.dropna(subset=['CONTENIDO A ANALIZAR', 'INTENSIDAD']) # Elimino los registros con nulos en las columnas 'CONTENIDO A ANALIZAR' e 'INTENSIDAD'\n",
    "print(f\"Registros tras filtrar los nulos: {len(regNoNulos)}\")\n",
    "print(\"_\"*40)\n",
    "\n",
    "regNulos = data.isnull().sum()              # Compruebo el número de nulos en cada columna de nuevo\n",
    "print(f\"Valores nulos por columna: \")\n",
    "print(regNulos)"
   ]
  },
  {
   "cell_type": "markdown",
   "metadata": {},
   "source": [
    "Elimino las columnas con mayoría de nulos ya que no aportarán información relevante y dado que el análisis se basa en el contenido de los mensajes y su \"intensidad\" de odio, elimino también los registros donde faltan estos valores."
   ]
  },
  {
   "cell_type": "markdown",
   "metadata": {},
   "source": [
    "#### **<span style=\"color: #0098cd;\">2. ¿Cuántas palabras totales hay en los comentarios del corpus?</span>**"
   ]
  },
  {
   "cell_type": "code",
   "execution_count": 44,
   "metadata": {},
   "outputs": [
    {
     "name": "stdout",
     "output_type": "stream",
     "text": [
      "Registros en la muestra: 15000\n",
      "------------------------------\n",
      "Valores nulos por columna en la muestra: \n",
      "MEDIO                   0\n",
      "SOPORTE                 0\n",
      "URL                     0\n",
      "TIPO DE MENSAJE         0\n",
      "CONTENIDO A ANALIZAR    0\n",
      "INTENSIDAD              0\n",
      "dtype: int64\n"
     ]
    }
   ],
   "source": [
    "# Selecciono una muestra de 15.000 registros aleatorios para pruebas más rápidas\n",
    "lines_number = 15000                                      # Para cargar solo un número limitado de líneas\n",
    "data_sample = data.sample(lines_number, random_state=7)   # Tomo una muestra para pruebas más rápidas\n",
    "\n",
    "print(f\"Registros en la muestra: {len(data_sample)}\")     # Verifico que se han cogido los 20000 registros.\n",
    "print(\"-\"*30)\n",
    "\n",
    "data_sample = data_sample.dropna()                        # Elimino todos los nulos de la muestra\n",
    "\n",
    "regNulos = data_sample.isnull().sum()                     # Compruebo el número de nulos en la muestra\n",
    "print(f\"Valores nulos por columna en la muestra: \")\n",
    "print(regNulos)"
   ]
  },
  {
   "cell_type": "code",
   "execution_count": 45,
   "metadata": {},
   "outputs": [
    {
     "name": "stdout",
     "output_type": "stream",
     "text": [
      "Conteo con SpaCy: 7\n"
     ]
    }
   ],
   "source": [
    "# Función para contar las palabras sin signos de puntuación\n",
    "#----------------------------------------------------------\n",
    "# is_alpha verifica que sea alfabético, es decir, que no sean signos de puntuación como -> . , ; : ! ? etc.\n",
    "# is_punct verifica que es un signo de puntuación\n",
    "# is_space verifica que es un espacio\n",
    "# Por tanto, si el token es alfabético y no es un signo de puntuación ni un espacio, lo considero una palabra.\n",
    "def CuentaPalab(mensaje):\n",
    "    doc = nlp(mensaje)             # Proceso el mensaje con el modelo de SpaCy\n",
    "    palabras = [token.text for token in doc if token.is_alpha and not token.is_punct and not token.is_space]\n",
    "    return len(palabras)\n",
    "\n",
    "# Ejemplo de uso de la función CuentaPalab\n",
    "ejemplo = \"Hola,  ¿cómo estás?   ¿Todo     bien? ¿Todo correcto?.\"\n",
    "print(\"Conteo con SpaCy:\", CuentaPalab(ejemplo)) # Debería dar 7"
   ]
  },
  {
   "cell_type": "code",
   "execution_count": 46,
   "metadata": {},
   "outputs": [
    {
     "name": "stdout",
     "output_type": "stream",
     "text": [
      "Palabras en total (contando todo) en comentarios: 395990\n",
      "---------------------------------------------------\n",
      "Palabras en total (solo alfabéticas) en los comentarios de la muestra: 381987\n",
      "-----------------------------------------------------------------------------\n"
     ]
    }
   ],
   "source": [
    "# Cuento las palabras teniendo en cuenta los signos de puntuación\n",
    "ComentMuestra = data_sample[data_sample[\"TIPO DE MENSAJE\"] == \"COMENTARIO\"]               # Cojo solo los que cuyo TIPO DE MENSAJE es COMENTARIO\n",
    "palabTotal = ComentMuestra[\"CONTENIDO A ANALIZAR\"].apply(lambda x: len(str(x).split()))   # Cuento el número total de palabras en los comentarios\n",
    "SumapalabTotal = palabTotal.sum()\n",
    "print(f\"Palabras en total (contando todo) en comentarios: {SumapalabTotal}\")\n",
    "print(\"-\"*51)\n",
    "\n",
    "# Cuento las palabras sin tener en cuenta los signos de puntuación ni espacios\n",
    "AlfTotal = ComentMuestra[\"CONTENIDO A ANALIZAR\"].apply(CuentaPalab).sum()                 # Aplico la función a cada comentario y voy sumando\n",
    "print(f\"Palabras en total (solo alfabéticas) en los comentarios de la muestra: {AlfTotal}\")\n",
    "print(\"-\"*77)\n"
   ]
  },
  {
   "cell_type": "markdown",
   "metadata": {},
   "source": [
    "Debido a los tiempos de procesamiento y a la carga computacional, para esta pregunta y para las posteriores, he seleccionado una muestra de 20.000 registros añadiendo un estado fijo para asegurar que siempre escoja los mismos registros en posteriores ejecuciones y así no distorsionar los resultados.\n",
    "\n",
    "He considerado que los signos de puntuación no son palabras."
   ]
  },
  {
   "cell_type": "markdown",
   "metadata": {},
   "source": [
    "#### **<span style=\"color: #0098cd;\">3. ¿Cuál el número promedio de palabras en cada comentario?</span>**"
   ]
  },
  {
   "cell_type": "code",
   "execution_count": 47,
   "metadata": {},
   "outputs": [
    {
     "name": "stdout",
     "output_type": "stream",
     "text": [
      "Promedio de palabras alfabéticas por comentario de la muestra: 44.29\n"
     ]
    }
   ],
   "source": [
    "PalabrasPorComentario = ComentMuestra[\"CONTENIDO A ANALIZAR\"].apply(CuentaPalab) \n",
    "\n",
    "AlfProm = PalabrasPorComentario.mean()           # Calculo el promedio\n",
    "print(f\"Promedio de palabras alfabéticas por comentario de la muestra: {AlfProm:.2f}\")"
   ]
  },
  {
   "cell_type": "markdown",
   "metadata": {},
   "source": [
    "### **Segunda parte de preguntas**"
   ]
  },
  {
   "cell_type": "markdown",
   "metadata": {},
   "source": [
    "Considerando dos grupos de comentarios (odio y no odio):"
   ]
  },
  {
   "cell_type": "markdown",
   "metadata": {},
   "source": [
    "#### **<span style=\"color: #0098cd;\">4. ¿Cuál es el número promedio de palabras en los comentarios de cada grupo?</span>**"
   ]
  },
  {
   "cell_type": "code",
   "execution_count": 48,
   "metadata": {},
   "outputs": [
    {
     "name": "stdout",
     "output_type": "stream",
     "text": [
      "Promedio de palabras alfabéticas en comentarios sin odio: 107.51\n",
      "Promedio de palabras alfabéticas en comentarios con odio: 15.74\n"
     ]
    }
   ],
   "source": [
    "# Los valores de INTENSIDAD están almacenados como strings o float en el dataset, así que los convierto a enteros.\n",
    "data_sample['INTENSIDAD'] = data_sample['INTENSIDAD'].astype(float).astype(int) # Convierto 'INTENSIDAD' primero a float y luego a int\n",
    "\n",
    "# Separo los comentarios en 2 grupos: los que tienen odio y los que no\n",
    "ComentNoOdio = data_sample[data_sample[\"INTENSIDAD\"] == 0]  # Selecciono solo los comentarios sin odio (INTENSIDAD == 0)\n",
    "ComentOdio = data_sample[data_sample[\"INTENSIDAD\"] > 0]     # Selecciono solo los comentarios con odio (INTENSIDAD > 0)\n",
    "\n",
    "# Calculo el promedio de palabras que hay en los comentarios considerados sin odio\n",
    "PalabTotalNoOdio = ComentNoOdio[\"CONTENIDO A ANALIZAR\"].apply(CuentaPalab) \n",
    "PalabPromNoOdio = PalabTotalNoOdio.mean()\n",
    "print(f\"Promedio de palabras alfabéticas en comentarios sin odio: {PalabPromNoOdio:.2f}\")\n",
    "\n",
    "# Calculo el promedio de palabras que hay en los comentarios considerados con odio\n",
    "PalabTotalOdio = ComentOdio[\"CONTENIDO A ANALIZAR\"].apply(CuentaPalab)\n",
    "PalabPromOdio = PalabTotalOdio.mean()\n",
    "print(f\"Promedio de palabras alfabéticas en comentarios con odio: {PalabPromOdio:.2f}\")"
   ]
  },
  {
   "cell_type": "markdown",
   "metadata": {},
   "source": [
    "#### **<span style=\"color: #0098cd;\">5. ¿Cuál es el número promedio de oraciones en los comentarios de cada grupo?</span>**"
   ]
  },
  {
   "cell_type": "code",
   "execution_count": 49,
   "metadata": {},
   "outputs": [
    {
     "name": "stdout",
     "output_type": "stream",
     "text": [
      "Conteo con SpaCy: 4\n"
     ]
    }
   ],
   "source": [
    "# Función para contar las oraciones\n",
    "#----------------------------------\n",
    "def CuentaOraciones(mensaje):\n",
    "    doc = nlp(mensaje)             # Proceso el mensaje con el modelo de SpaCy\n",
    "    oraciones = list(doc.sents)    # Divido el texto en oraciones usando la segmentación de Spacy\n",
    "    return len(oraciones)\n",
    "\n",
    "\n",
    "# Ejemplo de uso de la función CuentaOraciones\n",
    "ejemplo = \"Hola. ¿Cómo estás? Todo bien. Espero que tengas un buen día.\"\n",
    "print(\"Conteo con SpaCy:\", CuentaOraciones(ejemplo)) # Debería dar 4"
   ]
  },
  {
   "cell_type": "code",
   "execution_count": 50,
   "metadata": {},
   "outputs": [
    {
     "name": "stdout",
     "output_type": "stream",
     "text": [
      "Promedio de oraciones en comentarios sin odio: 4.00\n",
      "Promedio de oraciones en comentarios con odio: 1.49\n"
     ]
    }
   ],
   "source": [
    "#Calculo el promedio de oraciones que hay en los comentarios considerados sin odio\n",
    "OracionTotalNoOdio = ComentNoOdio[\"CONTENIDO A ANALIZAR\"].apply(CuentaOraciones)\n",
    "OracionPromNoOdio = OracionTotalNoOdio.mean()\n",
    "print(f\"Promedio de oraciones en comentarios sin odio: {OracionPromNoOdio:.2f}\")\n",
    "\n",
    "#Calculo el promedio de oraciones que hay en los comentarios considerados con odio\n",
    "OracionTotalOdio = ComentOdio[\"CONTENIDO A ANALIZAR\"].apply(CuentaOraciones)\n",
    "OracionPromOdio = OracionTotalOdio.mean()\n",
    "print(f\"Promedio de oraciones en comentarios con odio: {OracionPromOdio:.2f}\")"
   ]
  },
  {
   "cell_type": "markdown",
   "metadata": {},
   "source": [
    "#### **<span style=\"color: #0098cd;\">6. ¿Cuál es el porcentaje de comentarios que contienen entidades NER en cada grupo?</span>**"
   ]
  },
  {
   "cell_type": "markdown",
   "metadata": {},
   "source": [
    "NER (Named Entity Recognition, Reconocimiento de Entidades Nombradas) es una técnica de NLP utilizada para identificar y clasificar palabras o frases específicas dentro de un texto. Estas palabras representan entidades con significado propio, como nombres de personas, lugares, organizaciones, fechas, cantidades, etc..\n",
    "\n",
    "Por ejemplo: \n",
    "**\"Elon Musk es el CEO de Tesla, una empresa con sede en California, y su fortuna supera los 200 mil millones de dólares.\"**\n",
    "\n",
    "| **Entidad**                     | **Categoría (NER)**             |\n",
    "|---------------------------------|--------------------------------|\n",
    "| Elon Musk                       | **PERSON** (Persona)           |\n",
    "| Tesla                           | **ORG** (Organización)         |\n",
    "| California                      | **GPE** (Ubicación geopolítica) |\n",
    "| 200 mil millones de dólares     | **MONEY** (Dinero)             |\n"
   ]
  },
  {
   "cell_type": "code",
   "execution_count": 51,
   "metadata": {},
   "outputs": [
    {
     "name": "stdout",
     "output_type": "stream",
     "text": [
      "Entidad: Lionel Messi - Tipo: PER\n",
      "Entidad: Inter de Miami - Tipo: ORG\n",
      "Entidad: en Estados Unidos - Tipo: LOC\n"
     ]
    }
   ],
   "source": [
    "# Ejemplo de funcionamiento\n",
    "ejemplo = \"Lionel Messi juega en el Inter de Miami, un club de fútbol en Estados Unidos.\"\n",
    "\n",
    "doc = nlp(ejemplo)          # Proceso el mensaje con el modelo de SpaCy\n",
    "for entidad in doc.ents:    # Itero sobre las entidades detectadas\n",
    "    print(f\"Entidad: {entidad.text} - Tipo: {entidad.label_}\")"
   ]
  },
  {
   "cell_type": "code",
   "execution_count": 52,
   "metadata": {},
   "outputs": [],
   "source": [
    "# Función para contar las entidades\n",
    "#----------------------------------\n",
    "def TieneEntidades(mensaje):\n",
    "    doc = nlp(mensaje)         # Proceso el mensaje con el modelo de SpaCy\n",
    "    return len(doc.ents) > 0   # True si al menos hay una entidad"
   ]
  },
  {
   "cell_type": "code",
   "execution_count": 54,
   "metadata": {},
   "outputs": [
    {
     "name": "stdout",
     "output_type": "stream",
     "text": [
      "Porcentaje de comentarios sin odio con entidades NER: 59.67%\n",
      "Porcentaje de comentarios con odio con entidades NER: 38.54%\n"
     ]
    }
   ],
   "source": [
    "# Creo copias para evitar modificar el dataframe original\n",
    "ComentNoOdio = ComentNoOdio.copy()\n",
    "ComentOdio = ComentOdio.copy()\n",
    "\n",
    "# Calculo el porcentaje de entidades NER en comentarios sin odio\n",
    "ComentNoOdio['tiene_entidades'] = ComentNoOdio[\"CONTENIDO A ANALIZAR\"].apply(TieneEntidades)    # Aplico la función a cada comentario\n",
    "PorcEntidadesNoOdio = 100 * ComentNoOdio['tiene_entidades'].mean()                              # Calculo el porcentaje de comentarios sin odio y con entidades NER\n",
    "print(f\"Porcentaje de comentarios sin odio y con entidades NER: {PorcEntidadesNoOdio:.2f}%\")\n",
    "\n",
    "# Calculo el porcentaje de entidades NER en comentarios con odio\n",
    "ComentOdio['tiene_entidades'] = ComentOdio[\"CONTENIDO A ANALIZAR\"].apply(TieneEntidades)         # Aplico la función a cada comentario\n",
    "PorcEntidadesOdio = 100 * ComentOdio['tiene_entidades'].mean()                                   # Calculo el porcentaje de comentarios con odio y con entidades NER\n",
    "print(f\"Porcentaje de comentarios con odio y con entidades NER: {PorcEntidadesOdio:.2f}%\")"
   ]
  },
  {
   "cell_type": "markdown",
   "metadata": {},
   "source": [
    "#### **<span style=\"color: #0098cd;\">7. ¿Cuál es el porcentaje de comentarios que contienen entidades NER de tipo PERSON en cada grupo?</span>**"
   ]
  },
  {
   "cell_type": "code",
   "execution_count": null,
   "metadata": {},
   "outputs": [],
   "source": []
  },
  {
   "cell_type": "markdown",
   "metadata": {},
   "source": [
    "#### **<span style=\"color: #0098cd;\">8. ¿Cuál es el porcentaje de palabras en cada combinación posible de género y número en cada grupo?</span>**"
   ]
  },
  {
   "cell_type": "code",
   "execution_count": null,
   "metadata": {},
   "outputs": [],
   "source": []
  }
 ],
 "metadata": {
  "kernelspec": {
   "display_name": "Python 3",
   "language": "python",
   "name": "python3"
  },
  "language_info": {
   "codemirror_mode": {
    "name": "ipython",
    "version": 3
   },
   "file_extension": ".py",
   "mimetype": "text/x-python",
   "name": "python",
   "nbconvert_exporter": "python",
   "pygments_lexer": "ipython3",
   "version": "3.11.9"
  }
 },
 "nbformat": 4,
 "nbformat_minor": 4
}
