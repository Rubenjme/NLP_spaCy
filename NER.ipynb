{
 "cells": [
  {
   "cell_type": "markdown",
   "metadata": {},
   "source": [
    "# **<span style=\"color: #0098cd;\">Procesamiento del Lenguaje Natural para la detección de mensajes de odio</span>**\n"
   ]
  },
  {
   "cell_type": "markdown",
   "metadata": {},
   "source": [
    "## **Objetivos** "
   ]
  },
  {
   "cell_type": "markdown",
   "metadata": {},
   "source": [
    "## **Descripción**"
   ]
  },
  {
   "cell_type": "markdown",
   "metadata": {},
   "source": [
    "### **Carga y preprocesamiento del texto**"
   ]
  },
  {
   "cell_type": "code",
   "execution_count": 65,
   "metadata": {},
   "outputs": [],
   "source": [
    "#!pip install spacy\n",
    "#!pip install chardet\n",
    "#python -m spacy download es_core_news_md\n",
    "\n",
    "import pathlib \n",
    "import spacy\n",
    "import pandas as pd\n",
    "from spacy import displacy\n",
    "import csv\n",
    "import chardet"
   ]
  },
  {
   "cell_type": "markdown",
   "metadata": {},
   "source": [
    "#### **Carga del modelo y detección de codificación**"
   ]
  },
  {
   "cell_type": "code",
   "execution_count": 66,
   "metadata": {},
   "outputs": [],
   "source": [
    "try:\n",
    "    nlp = spacy.load(\"es_core_news_md\")  # Cargo el modelo de Spacy para español\n",
    "except OSError:\n",
    "    print(\"El modelo 'es_core_news_md' no está instalado.\")"
   ]
  },
  {
   "cell_type": "code",
   "execution_count": 67,
   "metadata": {},
   "outputs": [
    {
     "name": "stdout",
     "output_type": "stream",
     "text": [
      "{'encoding': 'utf-8', 'confidence': 0.99, 'language': ''}\n"
     ]
    }
   ],
   "source": [
    "filename = \"Dataset.csv\"\n",
    "\n",
    "with open(filename, \"rb\") as f:\n",
    "    rawdata = f.read(10000)           # Leo los primeros 10.000 bytes\n",
    "    result = chardet.detect(rawdata)  # Detecto la codificación\n",
    "    print(result)                     # Muestro la codificación detectada"
   ]
  },
  {
   "cell_type": "markdown",
   "metadata": {},
   "source": [
    "#### **Carga del dataset**"
   ]
  },
  {
   "cell_type": "code",
   "execution_count": 68,
   "metadata": {},
   "outputs": [],
   "source": [
    "data = pd.read_csv(filename, delimiter=';', encoding='utf-8', encoding_errors='ignore', low_memory=False)  # Cargo el archivo CSV ignorando carácteres raros."
   ]
  },
  {
   "cell_type": "markdown",
   "metadata": {},
   "source": [
    "El dataset tiene una codificación UTF-8 con un 99% de confianza, pero contiene algunos carácteres extraños que representan una cantidad despreciable de carácteres, decido ignorarlos."
   ]
  },
  {
   "cell_type": "markdown",
   "metadata": {},
   "source": [
    "### **Exploración y análisis preliminar**"
   ]
  },
  {
   "cell_type": "markdown",
   "metadata": {},
   "source": [
    "Se realizará un análisis inicial del corpus, con el objetivo de comprender sus características generales. \n",
    "\n",
    "Se responderán las siguientes preguntas:\n",
    "1. ¿Cuántos registros contiene el corpus? ¿Hay nulos?\n",
    "2. ¿Cuántas palabras totales hay en los comentarios del corpus?\n",
    "3. ¿Cuál el número promedio de palabras en cada comentario?"
   ]
  },
  {
   "cell_type": "markdown",
   "metadata": {},
   "source": [
    "#### **<span style=\"color: #0098cd;\">1. ¿Cuántos registros contiene el corpus? ¿Hay nulos?</span>**"
   ]
  },
  {
   "cell_type": "code",
   "execution_count": 69,
   "metadata": {},
   "outputs": [
    {
     "name": "stdout",
     "output_type": "stream",
     "text": [
      "Número de registros en total: 574915\n",
      "_____________________________________\n",
      "Valores nulos por columna: \n",
      "MEDIO                        0\n",
      "SOPORTE                     34\n",
      "URL                        148\n",
      "TIPO DE MENSAJE            152\n",
      "CONTENIDO A ANALIZAR       152\n",
      "INTENSIDAD                 273\n",
      "TIPO DE ODIO            562619\n",
      "TONO HUMORISTICO        574769\n",
      "MODIFICADOR             574562\n",
      "Unnamed: 9              574912\n",
      "Unnamed: 10             574912\n",
      "Unnamed: 11             574913\n",
      "Unnamed: 12             574913\n",
      "Unnamed: 13             574913\n",
      "Unnamed: 14             574913\n",
      "Unnamed: 15             574913\n",
      "dtype: int64\n",
      "________________________________________\n"
     ]
    }
   ],
   "source": [
    "regTotal = data.shape[0]        # Obtengo el número de registros del dataset\n",
    "#regTotal = len(data)           # Otra opción para obtener el número de registros\n",
    "regNulos = data.isnull().sum()  # Obtengo el número de nulos en cada columna\n",
    "\n",
    "print(f\"Número de registros en total: {regTotal}\")\n",
    "print(\"_\"*37)\n",
    "print(f\"Valores nulos por columna: \")\n",
    "print(regNulos)\n",
    "print(\"_\"*40)"
   ]
  },
  {
   "cell_type": "code",
   "execution_count": 70,
   "metadata": {},
   "outputs": [
    {
     "name": "stdout",
     "output_type": "stream",
     "text": [
      "Registros tras filtrar los nulos: 574642\n",
      "________________________________________\n",
      "Valores nulos por columna: \n",
      "MEDIO                     0\n",
      "SOPORTE                  34\n",
      "URL                     148\n",
      "TIPO DE MENSAJE         152\n",
      "CONTENIDO A ANALIZAR    152\n",
      "INTENSIDAD              273\n",
      "dtype: int64\n"
     ]
    }
   ],
   "source": [
    "data = data.drop(columns=['Unnamed: 9', 'Unnamed: 10',         # Elimino columnas innecesarias con mayoría de nulos\n",
    "                          'Unnamed: 11', 'Unnamed: 12', \n",
    "                          'Unnamed: 13', 'Unnamed: 14', \n",
    "                          'Unnamed: 15', 'TONO HUMORISTICO', \n",
    "                          'MODIFICADOR', 'TIPO DE ODIO'])\n",
    "\n",
    "\n",
    "regNoNulos = data.dropna(subset=['CONTENIDO A ANALIZAR', 'INTENSIDAD']) # Elimino los registros con nulos en las columnas 'CONTENIDO A ANALIZAR' e 'INTENSIDAD'\n",
    "print(f\"Registros tras filtrar los nulos: {len(regNoNulos)}\")\n",
    "print(\"_\"*40)\n",
    "\n",
    "regNulos = data.isnull().sum()              # Compruebo el número de nulos en cada columna de nuevo\n",
    "print(f\"Valores nulos por columna: \")\n",
    "print(regNulos)"
   ]
  },
  {
   "cell_type": "markdown",
   "metadata": {},
   "source": [
    "Elimino las columnas con mayoría de nulos ya que no aportarán información relevante y dado que el análisis se basa en el contenido de los mensajes y su \"intensidad\" de odio, elimino también los registros donde faltan estos valores."
   ]
  },
  {
   "cell_type": "markdown",
   "metadata": {},
   "source": [
    "#### **<span style=\"color: #0098cd;\">2. ¿Cuántas palabras totales hay en los comentarios del corpus?</span>**"
   ]
  },
  {
   "cell_type": "code",
   "execution_count": 71,
   "metadata": {},
   "outputs": [
    {
     "name": "stdout",
     "output_type": "stream",
     "text": [
      "Registros en la muestra: 15000\n",
      "------------------------------\n",
      "Valores nulos por columna en la muestra: \n",
      "MEDIO                   0\n",
      "SOPORTE                 0\n",
      "URL                     0\n",
      "TIPO DE MENSAJE         0\n",
      "CONTENIDO A ANALIZAR    0\n",
      "INTENSIDAD              0\n",
      "dtype: int64\n"
     ]
    }
   ],
   "source": [
    "# Selecciono una muestra de 15.000 registros aleatorios para pruebas más rápidas\n",
    "lines_number = 15000                                      # Para cargar solo un número limitado de líneas\n",
    "data_sample = data.sample(lines_number, random_state=7)   # Tomo una muestra para pruebas más rápidas\n",
    "\n",
    "print(f\"Registros en la muestra: {len(data_sample)}\")     # Verifico que se han cogido los 20000 registros.\n",
    "print(\"-\"*30)\n",
    "\n",
    "data_sample = data_sample.dropna()                        # Elimino todos los nulos de la muestra\n",
    "\n",
    "regNulos = data_sample.isnull().sum()                     # Compruebo el número de nulos en la muestra\n",
    "print(f\"Valores nulos por columna en la muestra: \")\n",
    "print(regNulos)"
   ]
  },
  {
   "cell_type": "code",
   "execution_count": 72,
   "metadata": {},
   "outputs": [
    {
     "name": "stdout",
     "output_type": "stream",
     "text": [
      "Conteo con SpaCy: 7\n"
     ]
    }
   ],
   "source": [
    "# Función para contar las palabras sin signos de puntuación\n",
    "#----------------------------------------------------------\n",
    "# is_alpha verifica que sea alfabético, es decir, que no sean signos de puntuación como -> . , ; : ! ? etc.\n",
    "# is_punct verifica que es un signo de puntuación\n",
    "# is_space verifica que es un espacio\n",
    "# Por tanto, si el token es alfabético y no es un signo de puntuación ni un espacio, lo considero una palabra.\n",
    "def CuentaPalab(mensaje):\n",
    "    doc = nlp(mensaje)             # Proceso el mensaje con el modelo de SpaCy\n",
    "    palabras = [token.text for token in doc if token.is_alpha and not token.is_punct and not token.is_space]\n",
    "    return len(palabras)\n",
    "\n",
    "# Ejemplo de uso de la función CuentaPalab\n",
    "ejemplo = \"Hola,  ¿cómo estás?   ¿Todo     bien? ¿Todo correcto?.\"\n",
    "print(\"Conteo con SpaCy:\", CuentaPalab(ejemplo)) # Debería dar 7"
   ]
  },
  {
   "cell_type": "code",
   "execution_count": 73,
   "metadata": {},
   "outputs": [
    {
     "name": "stdout",
     "output_type": "stream",
     "text": [
      "Palabras en total (contando todo) en comentarios: 395990\n",
      "---------------------------------------------------\n",
      "Palabras en total (solo alfabéticas) en los comentarios de la muestra: 381987\n",
      "-----------------------------------------------------------------------------\n"
     ]
    }
   ],
   "source": [
    "# Cuento las palabras teniendo en cuenta los signos de puntuación\n",
    "ComentMuestra = data_sample[data_sample[\"TIPO DE MENSAJE\"] == \"COMENTARIO\"]               # Cojo solo los que cuyo TIPO DE MENSAJE es COMENTARIO\n",
    "palabTotal = ComentMuestra[\"CONTENIDO A ANALIZAR\"].apply(lambda x: len(str(x).split()))   # Cuento el número total de palabras en los comentarios\n",
    "SumapalabTotal = palabTotal.sum()\n",
    "print(f\"Palabras en total (contando todo) en comentarios: {SumapalabTotal}\")\n",
    "print(\"-\"*51)\n",
    "\n",
    "# Cuento las palabras sin tener en cuenta los signos de puntuación ni espacios\n",
    "AlfTotal = ComentMuestra[\"CONTENIDO A ANALIZAR\"].apply(CuentaPalab).sum()                 # Aplico la función a cada comentario y voy sumando\n",
    "print(f\"Palabras en total (solo alfabéticas) en los comentarios de la muestra: {AlfTotal}\")\n",
    "print(\"-\"*77)\n"
   ]
  },
  {
   "cell_type": "markdown",
   "metadata": {},
   "source": [
    "Debido a los tiempos de procesamiento y a la carga computacional, para esta pregunta y para las posteriores, he seleccionado una muestra de 20.000 registros añadiendo un estado fijo para asegurar que siempre escoja los mismos registros en posteriores ejecuciones y así no distorsionar los resultados.\n",
    "\n",
    "He considerado que los signos de puntuación no son palabras."
   ]
  },
  {
   "cell_type": "markdown",
   "metadata": {},
   "source": [
    "#### **<span style=\"color: #0098cd;\">3. ¿Cuál el número promedio de palabras en cada comentario?</span>**"
   ]
  },
  {
   "cell_type": "code",
   "execution_count": 74,
   "metadata": {},
   "outputs": [
    {
     "name": "stdout",
     "output_type": "stream",
     "text": [
      "Promedio de palabras alfabéticas por comentario de la muestra: 44.29\n"
     ]
    }
   ],
   "source": [
    "PalabrasPorComentario = ComentMuestra[\"CONTENIDO A ANALIZAR\"].apply(CuentaPalab) \n",
    "\n",
    "AlfProm = PalabrasPorComentario.mean()           # Calculo el promedio\n",
    "print(f\"Promedio de palabras alfabéticas por comentario de la muestra: {AlfProm:.2f}\")"
   ]
  },
  {
   "cell_type": "markdown",
   "metadata": {},
   "source": [
    "### **Análisis de entidades y características del texto**"
   ]
  },
  {
   "cell_type": "markdown",
   "metadata": {},
   "source": [
    "A continuación, se aplicarán técnicas de Procesamiento de Lenguaje Natural (NLP) para extraer información significativa del corpus. Se identificará la presencia de entidades nombradas (NER), la distribución de palabras según género y número, la lematización del texto y el análisis de tendencias lingüísticas en los mensajes con y sin odio.\n",
    "\n",
    "Para ello consideraré 2 grupos de comentarios (odio y no odio) en función de la INTENSIDAD con que estén etiquetados.\n",
    "\n",
    "Se responderán las siguientes preguntas:\n",
    "\n",
    "4. ¿Cuál es el número promedio de palabras en los comentarios con y sin odio?\n",
    "5. ¿Cuál es el número promedio de oraciones en los comentarios con y sin odio?\n",
    "6. ¿Cuál es el porcentaje de comentarios que contienen entidades NER en mensajes con y sin odio?\n",
    "7. ¿Cuál es el porcentaje de comentarios que contienen entidades NER de tipo PERSON en cada grupo?\n",
    "8. ¿Cuál es el porcentaje de palabras en cada combinación posible de género y número en cada grupo?\n",
    "9. ¿Cuántas entidades de cada tipo posible se reconocen en cada uno de los grupos?\n",
    "10. ¿Cuáles son los 10 lemas más repetidos en los comentarios de cada grupo?"
   ]
  },
  {
   "cell_type": "markdown",
   "metadata": {},
   "source": [
    "#### **<span style=\"color: #0098cd;\">4. ¿Cuál es el número promedio de palabras en los comentarios con y sin odio?</span>**"
   ]
  },
  {
   "cell_type": "code",
   "execution_count": 75,
   "metadata": {},
   "outputs": [
    {
     "name": "stdout",
     "output_type": "stream",
     "text": [
      "Promedio de palabras alfabéticas en comentarios sin odio: 107.51\n",
      "Promedio de palabras alfabéticas en comentarios con odio: 15.74\n"
     ]
    }
   ],
   "source": [
    "# Los valores de INTENSIDAD están almacenados como strings o float en el dataset, así que los convierto a enteros.\n",
    "data_sample['INTENSIDAD'] = data_sample['INTENSIDAD'].astype(float).astype(int) # Convierto 'INTENSIDAD' primero a float y luego a int\n",
    "\n",
    "# Separo los comentarios en 2 grupos: los que tienen odio y los que no\n",
    "ComentNoOdio = data_sample[data_sample[\"INTENSIDAD\"] == 0]  # Selecciono solo los comentarios sin odio (INTENSIDAD == 0)\n",
    "ComentOdio = data_sample[data_sample[\"INTENSIDAD\"] > 0]     # Selecciono solo los comentarios con odio (INTENSIDAD > 0)\n",
    "\n",
    "# Calculo el promedio de palabras que hay en los comentarios considerados sin odio\n",
    "PalabTotalNoOdio = ComentNoOdio[\"CONTENIDO A ANALIZAR\"].apply(CuentaPalab) \n",
    "PalabPromNoOdio = PalabTotalNoOdio.mean()\n",
    "print(f\"Promedio de palabras alfabéticas en comentarios sin odio: {PalabPromNoOdio:.2f}\")\n",
    "\n",
    "# Calculo el promedio de palabras que hay en los comentarios considerados con odio\n",
    "PalabTotalOdio = ComentOdio[\"CONTENIDO A ANALIZAR\"].apply(CuentaPalab)\n",
    "PalabPromOdio = PalabTotalOdio.mean()\n",
    "print(f\"Promedio de palabras alfabéticas en comentarios con odio: {PalabPromOdio:.2f}\")"
   ]
  },
  {
   "cell_type": "markdown",
   "metadata": {},
   "source": [
    "#### **<span style=\"color: #0098cd;\">5. ¿Cuál es el número promedio de oraciones en los comentarios con y sin odio?</span>**"
   ]
  },
  {
   "cell_type": "code",
   "execution_count": 76,
   "metadata": {},
   "outputs": [
    {
     "name": "stdout",
     "output_type": "stream",
     "text": [
      "Conteo con SpaCy: 4\n"
     ]
    }
   ],
   "source": [
    "# Función para contar las oraciones\n",
    "#----------------------------------\n",
    "def CuentaOraciones(mensaje):\n",
    "    doc = nlp(mensaje)             # Proceso el mensaje con el modelo de SpaCy\n",
    "    oraciones = list(doc.sents)    # Divido el texto en oraciones usando la segmentación de Spacy\n",
    "    return len(oraciones)\n",
    "\n",
    "\n",
    "# Ejemplo de uso de la función CuentaOraciones\n",
    "ejemplo = \"Hola. ¿Cómo estás? Todo bien. Espero que tengas un buen día.\"\n",
    "print(\"Conteo con SpaCy:\", CuentaOraciones(ejemplo)) # Debería dar 4"
   ]
  },
  {
   "cell_type": "code",
   "execution_count": 77,
   "metadata": {},
   "outputs": [
    {
     "name": "stdout",
     "output_type": "stream",
     "text": [
      "Promedio de oraciones en comentarios sin odio: 4.00\n",
      "Promedio de oraciones en comentarios con odio: 1.49\n"
     ]
    }
   ],
   "source": [
    "#Calculo el promedio de oraciones que hay en los comentarios considerados sin odio\n",
    "OracionTotalNoOdio = ComentNoOdio[\"CONTENIDO A ANALIZAR\"].apply(CuentaOraciones)\n",
    "OracionPromNoOdio = OracionTotalNoOdio.mean()\n",
    "print(f\"Promedio de oraciones en comentarios sin odio: {OracionPromNoOdio:.2f}\")\n",
    "\n",
    "#Calculo el promedio de oraciones que hay en los comentarios considerados con odio\n",
    "OracionTotalOdio = ComentOdio[\"CONTENIDO A ANALIZAR\"].apply(CuentaOraciones)\n",
    "OracionPromOdio = OracionTotalOdio.mean()\n",
    "print(f\"Promedio de oraciones en comentarios con odio: {OracionPromOdio:.2f}\")"
   ]
  },
  {
   "cell_type": "markdown",
   "metadata": {},
   "source": [
    "#### **<span style=\"color: #0098cd;\">6. ¿Cuál es el porcentaje de comentarios que contienen entidades NER en mensajes con y sin odio?</span>**"
   ]
  },
  {
   "cell_type": "markdown",
   "metadata": {},
   "source": [
    "NER (Named Entity Recognition, Reconocimiento de Entidades Nombradas) es una técnica de NLP utilizada para identificar y clasificar palabras o frases específicas dentro de un texto. Estas palabras representan entidades con significado propio, como nombres de personas, lugares, organizaciones, fechas, cantidades, etc..\n",
    "\n",
    "Por ejemplo: \n",
    "**\"Elon Musk es el CEO de Tesla, una empresa con sede en California, y su fortuna supera los 200 mil millones de dólares.\"**\n",
    "\n",
    "| **Entidad**                     | **Categoría (NER)**             |\n",
    "|---------------------------------|--------------------------------|\n",
    "| Elon Musk                       | **PERSON** (Persona)           |\n",
    "| Tesla                           | **ORG** (Organización)         |\n",
    "| California                      | **GPE** (Ubicación geopolítica) |\n",
    "| 200 mil millones de dólares     | **MONEY** (Dinero)             |\n"
   ]
  },
  {
   "cell_type": "code",
   "execution_count": 78,
   "metadata": {},
   "outputs": [
    {
     "name": "stdout",
     "output_type": "stream",
     "text": [
      "Entidad: Lionel Messi - Tipo: PER\n",
      "Entidad: Inter de Miami - Tipo: ORG\n",
      "Entidad: en Estados Unidos - Tipo: LOC\n"
     ]
    }
   ],
   "source": [
    "# Ejemplo de funcionamiento\n",
    "ejemplo = \"Lionel Messi juega en el Inter de Miami, un club de fútbol en Estados Unidos.\"\n",
    "\n",
    "doc = nlp(ejemplo)          # Proceso el mensaje con el modelo de SpaCy\n",
    "for entidad in doc.ents:    # Itero sobre las entidades detectadas\n",
    "    print(f\"Entidad: {entidad.text} - Tipo: {entidad.label_}\")"
   ]
  },
  {
   "cell_type": "code",
   "execution_count": 79,
   "metadata": {},
   "outputs": [],
   "source": [
    "# Función para contar las entidades\n",
    "#----------------------------------\n",
    "def TieneEntidades(mensaje):\n",
    "    doc = nlp(mensaje)         # Proceso el mensaje con el modelo de SpaCy\n",
    "    return len(doc.ents) > 0   # True si al menos hay una entidad"
   ]
  },
  {
   "cell_type": "code",
   "execution_count": 80,
   "metadata": {},
   "outputs": [
    {
     "name": "stdout",
     "output_type": "stream",
     "text": [
      "Porcentaje de comentarios sin odio y con entidades NER: 59.67%\n",
      "Porcentaje de comentarios con odio y con entidades NER: 38.54%\n"
     ]
    }
   ],
   "source": [
    "# Creo copias para evitar modificar el dataframe original\n",
    "ComentNoOdio = ComentNoOdio.copy()\n",
    "ComentOdio = ComentOdio.copy()\n",
    "\n",
    "# Calculo el porcentaje de entidades NER en comentarios sin odio\n",
    "ComentNoOdio['tiene_entidades'] = ComentNoOdio[\"CONTENIDO A ANALIZAR\"].apply(TieneEntidades)    # Aplico la función a cada comentario\n",
    "PorcEntidadesNoOdio = 100 * ComentNoOdio['tiene_entidades'].mean()                              # Calculo el porcentaje de comentarios sin odio y con entidades NER\n",
    "print(f\"Porcentaje de comentarios sin odio y con entidades NER: {PorcEntidadesNoOdio:.2f}%\")\n",
    "\n",
    "# Calculo el porcentaje de entidades NER en comentarios con odio\n",
    "ComentOdio['tiene_entidades'] = ComentOdio[\"CONTENIDO A ANALIZAR\"].apply(TieneEntidades)         # Aplico la función a cada comentario\n",
    "PorcEntidadesOdio = 100 * ComentOdio['tiene_entidades'].mean()                                   # Calculo el porcentaje de comentarios con odio y con entidades NER\n",
    "print(f\"Porcentaje de comentarios con odio y con entidades NER: {PorcEntidadesOdio:.2f}%\")"
   ]
  },
  {
   "cell_type": "markdown",
   "metadata": {},
   "source": [
    "#### **<span style=\"color: #0098cd;\">7. ¿Cuál es el porcentaje de comentarios que contienen entidades NER de tipo PERSON en cada grupo?</span>**"
   ]
  },
  {
   "cell_type": "code",
   "execution_count": 81,
   "metadata": {},
   "outputs": [],
   "source": [
    "# Función para contar las entidades de tipo PERSON\n",
    "#----------------------------------\n",
    "def TienePerson(mensaje): \n",
    "    doc = nlp(mensaje)                                   # Proceso el mensaje con el modelo de SpaCy\n",
    "    return any(ent.label_ == 'PER' for ent in doc.ents)  # True si al menos hay una entidad de tipo PERSON (PER)"
   ]
  },
  {
   "cell_type": "code",
   "execution_count": 82,
   "metadata": {},
   "outputs": [
    {
     "name": "stdout",
     "output_type": "stream",
     "text": [
      "Porcentaje de comentarios sin odio con entidades NER de tipo PERSON: 28.89%\n",
      "Porcentaje de comentarios con odio con entidades NER de tipo PERSON: 19.75%\n"
     ]
    }
   ],
   "source": [
    "# Calculo el porcentaje de entidades PERSON en comentarios sin odio\n",
    "ComentNoOdio['tiene_personas'] = ComentNoOdio[\"CONTENIDO A ANALIZAR\"].apply(TienePerson)         # Aplico la función a cada comentario\n",
    "PorcPersonNoOdio = 100 * ComentNoOdio['tiene_personas'].mean()                                   # Calculo el porcentaje de comentarios sin odio y con entidades de tipo PERSON\n",
    "print(f\"Porcentaje de comentarios sin odio con entidades NER de tipo PERSON: {PorcPersonNoOdio:.2f}%\")\n",
    "\n",
    "\n",
    "# Calculo el porcentaje de entidades PERSON en comentarios con odio\n",
    "ComentOdio['tiene_personas'] = ComentOdio[\"CONTENIDO A ANALIZAR\"].apply(TienePerson)             # Aplico la función a cada comentario\n",
    "PorcPersonOdio = 100 * ComentOdio['tiene_personas'].mean()                                       # Calculo el porcentaje de comentarios con odio y con entidades de tipo PERSON\n",
    "print(f\"Porcentaje de comentarios con odio con entidades NER de tipo PERSON: {PorcPersonOdio:.2f}%\")"
   ]
  },
  {
   "cell_type": "markdown",
   "metadata": {},
   "source": [
    "#### **<span style=\"color: #0098cd;\">8. ¿Cuál es el porcentaje de palabras en cada combinación posible de género y número en cada grupo?</span>**"
   ]
  },
  {
   "cell_type": "code",
   "execution_count": 83,
   "metadata": {},
   "outputs": [],
   "source": [
    "# Función para contar las palabras según su género y número\n",
    "#----------------------------------------------------------\n",
    "def CuentaGeneroyNumero(mensaje):\n",
    "    doc = nlp(mensaje)\n",
    "    conteo = {\n",
    "        'ms': 0, 'mp': 0, 'fs': 0, 'fp': 0}\n",
    "    for token in doc:               # Itero sobre cada token en el documento\n",
    "        if token.is_alpha:  \n",
    "            genero = token.morph.get('Gender')\n",
    "            numero = token.morph.get('Number')\n",
    "            if genero and numero:\n",
    "                if 'Masc' in genero and 'Sing' in numero:   # Masculino singular\n",
    "                    conteo['ms'] += 1  \n",
    "                elif 'Masc' in genero and 'Plur' in numero: # Masculino plural\n",
    "                    conteo['mp'] += 1  \n",
    "                elif 'Fem' in genero and 'Sing' in numero:  # Femenino singular\n",
    "                    conteo['fs'] += 1  \n",
    "                elif 'Fem' in genero and 'Plur' in numero:  # Femenino plural\n",
    "                    conteo['fp'] += 1  \n",
    "    return conteo"
   ]
  },
  {
   "cell_type": "code",
   "execution_count": 84,
   "metadata": {},
   "outputs": [
    {
     "name": "stdout",
     "output_type": "stream",
     "text": [
      "Porcentajes por combinaciones en comentarios sin odio: {'ms': 40.78, 'fs': 33.64, 'mp': 14.9, 'fp': 10.68}\n",
      "Porcentajes por combinaciones en comentarios con odio: {'ms': 40.87, 'fs': 32.07, 'mp': 18.57, 'fp': 8.48}\n"
     ]
    }
   ],
   "source": [
    "# Cálculo del porcentaje para comentarios sin odio\n",
    "ComentNoOdio['genero_numero'] = ComentNoOdio[\"CONTENIDO A ANALIZAR\"].apply(CuentaGeneroyNumero) # Aplico la función a cada comentario\n",
    "GenyNumTotalNoOdio = {'ms': 0, 'fs': 0, 'mp': 0, 'fp': 0}                                       # Diccionario para el conteo total de cada categoría\n",
    "\n",
    "for res in ComentNoOdio['genero_numero']:       # Itero sobre cada diccionario de resultados\n",
    "    for key in res:                             # Itero sobre las claves ('ms', 'fs', 'mp', 'fp')\n",
    "        GenyNumTotalNoOdio[key] += res[key]     # Sumo las cantidades al diccionario acumulador\n",
    "\n",
    "PalabTotalNO = sum(GenyNumTotalNoOdio.values())                                                         # Calculo el total de palabras analizadas en los comentarios sin odio\n",
    "PorcNoOdio = {key: round((value / PalabTotalNO) * 100, 2) for key, value in GenyNumTotalNoOdio.items()} # Calculo el porcentaje de cada categoría de palabras\n",
    "\n",
    "\n",
    "# Cálculo del porcentaje para comentarios con odio\n",
    "ComentOdio['genero_numero'] = ComentOdio[\"CONTENIDO A ANALIZAR\"].apply(CuentaGeneroyNumero)    # Aplico la función a cada comentario\n",
    "GenyNunTotalOdio = {'ms': 0, 'fs': 0, 'mp': 0, 'fp': 0}                                        # Diccionario para el conteo total de cada categoría\n",
    "\n",
    "for res in ComentOdio['genero_numero']:         # Itero sobre cada diccionario de resultados\n",
    "    for key in res:                             # Itero sobre las claves ('ms', 'fs', 'mp', 'fp')\n",
    "        GenyNunTotalOdio[key] += res[key]       # Sumo las cantidades al diccionario acumulador\n",
    "\n",
    "PalabTotalO = sum(GenyNunTotalOdio.values())                                                       # Calculo el total de palabras analizadas en los comentarios con odio\n",
    "PorcOdio = {key: round((value / PalabTotalO) * 100, 2) for key, value in GenyNunTotalOdio.items()} # Calculo el porcentaje de cada categoría de palabras\n",
    "\n",
    "print(\"Porcentajes por combinaciones en comentarios sin odio:\", PorcNoOdio)\n",
    "print(\"Porcentajes por combinaciones en comentarios con odio:\", PorcOdio)"
   ]
  },
  {
   "cell_type": "markdown",
   "metadata": {},
   "source": [
    "#### **<span style=\"color: #0098cd;\">9. ¿Cuántas entidades de cada tipo posible se reconocen en cada uno de los grupos?</span>**"
   ]
  },
  {
   "cell_type": "code",
   "execution_count": 85,
   "metadata": {},
   "outputs": [],
   "source": [
    "# Función para contar las NER según su tipo\n",
    "#------------------------------------------\n",
    "def CuentaEntidadesTipo(mensaje):\n",
    "    doc = nlp(mensaje)                          # Proceso el mensaje con el modelo de SpaCy\n",
    "    conteo_entidades = {}                       # Diccionario para almacenar el número de entidades por tipo\n",
    "    \n",
    "    for ent in doc.ents:                        # Itero sobre todas las entidades detectadas\n",
    "        if ent.label_ in conteo_entidades:      # Si ya existe el tipo de entidad, suma 1\n",
    "            conteo_entidades[ent.label_] += 1\n",
    "        else:                                   # Si es la primera vez que aparece ese tipo de entidad, la inicializo con 1\n",
    "            conteo_entidades[ent.label_] = 1\n",
    "    return conteo_entidades                     # Devuelvo el diccionario con el conteo de entidades"
   ]
  },
  {
   "cell_type": "code",
   "execution_count": 86,
   "metadata": {},
   "outputs": [
    {
     "name": "stdout",
     "output_type": "stream",
     "text": [
      "Tipos de entidades en total en comentarios sin odio: {'LOC': 19305, 'MISC': 5333, 'PER': 17360, 'ORG': 5547}\n",
      "Tipos de entidades en total en comentarios con odio: {'LOC': 36, 'PER': 71, 'MISC': 31, 'ORG': 31}\n"
     ]
    }
   ],
   "source": [
    "ComentNoOdio['entidades_tipo'] = ComentNoOdio[\"CONTENIDO A ANALIZAR\"].apply(CuentaEntidadesTipo) # Aplico la función a cada comentario\n",
    "EntidadesTotalNoOdio = {}                       # Diccionario para almacenar el número de entidades por tipo en comentarios sin odio\n",
    "\n",
    "# Sumo todas las entidades encontradas\n",
    "for entidades in ComentNoOdio['entidades_tipo']:\n",
    "    for tipo, cantidad in entidades.items():\n",
    "        if tipo in EntidadesTotalNoOdio:             # Si ya existe el tipo de entidad, sumo su cantidad\n",
    "            EntidadesTotalNoOdio[tipo] += cantidad\n",
    "        else:                                        # Si es la primera vez que aparece, la inicializo con la cantidad\n",
    "            EntidadesTotalNoOdio[tipo] = cantidad\n",
    "\n",
    "\n",
    "\n",
    "ComentOdio['entidades_tipo'] = ComentOdio[\"CONTENIDO A ANALIZAR\"].apply(CuentaEntidadesTipo)     # Aplico la función a cada comentario\n",
    "EntidadesTotalOdio = {}                        # Diccionario para almacenar el número de entidades por tipo en comentarios con odio\n",
    "\n",
    "# Sumo todas las entidades encontradas\n",
    "for entidades in ComentOdio['entidades_tipo']:\n",
    "    for tipo, cantidad in entidades.items():\n",
    "        if tipo in EntidadesTotalOdio:\n",
    "            EntidadesTotalOdio[tipo] += cantidad\n",
    "        else:\n",
    "            EntidadesTotalOdio[tipo] = cantidad\n",
    "\n",
    "print(\"Tipos de entidades en total en comentarios sin odio:\", EntidadesTotalNoOdio)\n",
    "print(\"Tipos de entidades en total en comentarios con odio:\", EntidadesTotalOdio)"
   ]
  },
  {
   "cell_type": "markdown",
   "metadata": {},
   "source": [
    "#### **<span style=\"color: #0098cd;\">10. ¿Cuáles son los 10 lemas más repetidos en los comentarios de cada grupo?</span>**"
   ]
  },
  {
   "cell_type": "markdown",
   "metadata": {},
   "source": [
    "La realicé una primera vez sin tener en cuenta stopwords para ver los resultados que obtenía. Tras su ejecución vi que había un buen número de \"i\" y \"q\" que realmente no aportan mucha información a los resultados por lo que los añadí como stopword para filtrarlas."
   ]
  },
  {
   "cell_type": "code",
   "execution_count": 87,
   "metadata": {},
   "outputs": [],
   "source": [
    "from spacy.lang.es import STOP_WORDS  # Importo la lista de stopwords del español\n",
    "\n",
    "for word in ['q', 'i']: \n",
    "    if word not in STOP_WORDS:  # Agrego 'q' e 'i' a la lista de stopwords si no lo están ya\n",
    "        STOP_WORDS.add(word)\n",
    "\n",
    "# Función para extraer lemas\n",
    "#---------------------------\n",
    "def SacaLemas(mensaje):\n",
    "    doc = nlp(mensaje)          # Proceso el mensaje con el modelo de SpaCy\n",
    "    lemas = [token.lemma_ for token in doc if token.is_alpha and token.text not in STOP_WORDS]\n",
    "    return lemas"
   ]
  },
  {
   "cell_type": "code",
   "execution_count": null,
   "metadata": {},
   "outputs": [
    {
     "name": "stdout",
     "output_type": "stream",
     "text": [
      "100 lemas más repetidos en comentarios sin odio:\n",
      "año: 4403\n",
      "persona: 2365\n",
      "gobierno: 2203\n",
      "país: 2006\n",
      "caso: 1964\n",
      "españa: 1643\n",
      "madrid: 1490\n",
      "ver: 1450\n",
      "millón: 1406\n",
      "llegar: 1352\n",
      "\n",
      "100 lemas más repetidos en comentarios con odio:\n",
      "puta: 26\n",
      "mierda: 26\n",
      "hijo: 15\n",
      "gobierno: 14\n",
      "gente: 12\n",
      "asco: 12\n",
      "gentuza: 12\n",
      "panfleto: 11\n",
      "mentiroso: 10\n",
      "ir: 10\n"
     ]
    }
   ],
   "source": [
    "from collections import Counter  # Para el conteo\n",
    "\n",
    "LemasNoOdio = ComentNoOdio[\"CONTENIDO A ANALIZAR\"].apply(SacaLemas).sum() # Aplico la función a cada comentario y sumo los resultados\n",
    "CuentaLemasNoOdio = Counter(LemasNoOdio)                                  # Cuento cuántas veces aparece cada lema\n",
    "LemasRepetidosNoOdio = CuentaLemasNoOdio.most_common(10)                  # Obtengo los 10 lemas más repetidos\n",
    "\n",
    "\n",
    "LemasOdio = ComentOdio[\"CONTENIDO A ANALIZAR\"].apply(SacaLemas).sum()     # Aplico la función a cada comentario y sumo los resultados\n",
    "CuentaLemasOdio = Counter(LemasOdio)                                      # Cuento cuántas veces aparece cada lema\n",
    "LemasRepetidosOdio = CuentaLemasOdio.most_common(10)                      # Obtengo los 10 lemas más repetidos\n",
    "\n",
    "\n",
    "print(\"10 lemas más repetidos en comentarios sin odio:\")\n",
    "for lema, frecuencia in LemasRepetidosNoOdio:\n",
    "    print(f\"{lema}: {frecuencia}\")\n",
    "\n",
    "print(\"\\n10 lemas más repetidos en comentarios con odio:\")\n",
    "for lema, frecuencia in LemasRepetidosOdio:\n",
    "    print(f\"{lema}: {frecuencia}\")"
   ]
  },
  {
   "cell_type": "markdown",
   "metadata": {},
   "source": [
    "### **Análisis final**"
   ]
  },
  {
   "cell_type": "markdown",
   "metadata": {},
   "source": [
    "#### **<span style=\"color: #0098cd;\">Con los resultados obtenidos, ¿es posible identificar tendencias generales para determinar si un mensaje contiene odio?</span>**"
   ]
  },
  {
   "cell_type": "markdown",
   "metadata": {},
   "source": [
    "**Recopilando los resultados más relevantes obtenidos:**\n",
    "\n",
    "- Promedio de palabras alfabéticas por comentario de la muestra: 44.29\n",
    "- Promedio de palabras alfabéticas en comentarios sin odio: 107.51\n",
    "- Promedio de palabras alfabéticas en comentarios con odio: 15.74\n",
    "- Promedio de oraciones en comentarios sin odio: 4.00\n",
    "- Promedio de oraciones en comentarios con odio: 1.49\n",
    "- Porcentaje de comentarios sin odio con entidades NER: 59.67%\n",
    "- Porcentaje de comentarios con odio con entidades NER: 38.54%\n",
    "- Porcentaje de comentarios sin odio con entidades NER de tipo PERSON: 28.89%\n",
    "- Porcentaje de comentarios con odio con entidades NER de tipo PERSON: 19.75%\n",
    "- Porcentajes por combinaciones en comentarios sin odio: {'ms': 40.78, 'fs': 33.64, 'mp': 14.9, 'fp': 10.68}\n",
    "- Porcentajes por combinaciones en comentarios con odio: {'ms': 40.87, 'fs': 32.07, 'mp': 18.57, 'fp': 8.48}\n",
    "- Tipos de entidades en total en comentarios sin odio: {'LOC': 19305, 'MISC': 5333, 'PER': 17360, 'ORG': 5547}\n",
    "- Tipos de entidades en total en comentarios con odio: {'LOC': 36, 'PER': 71, 'MISC': 31, 'ORG': 31}\n",
    "- 5 lemas más repetidos en comentarios sin odio:\n",
    "  - año: 4403\n",
    "  - persona: 2365\n",
    "  - gobierno: 2203\n",
    "  - país: 2006\n",
    "  - caso: 1964\n",
    "- 5 lemas más repetidos en comentarios con odio:\n",
    "  - puta: 26\n",
    "  - mierda: 26\n",
    "  - hijo: 15\n",
    "  - gobierno: 14\n",
    "  - gente: 12"
   ]
  },
  {
   "cell_type": "markdown",
   "metadata": {},
   "source": [
    "Con estos resultados se puede ver que hay ciertas tendencias generales y diferencias significativas entre los mensajes con y sin odio:\n",
    "\n",
    "- Los comentarios sin odio tienen en promedio 107.51 palabras, mientras que los comentarios con odio solo tienen 15.74 palabras. Esto indica que los mensajes con odio suelen ser más cortos y directos, mientras que los mensajes sin odio son más generales y explicativos.\n",
    "\n",
    "- Los comentarios sin odio contienen en promedio 4 oraciones, mientras que los comentarios con odio solo 1.49. Esto confirma que los mensajes con odio suelen ser más concisos, lo que puede deberse a su carácter impulsivo o agresivo.\n",
    "\n",
    "- El 59.67% de los comentarios sin odio contienen entidades NER, mientras que en los comentarios con odio este porcentaje baja al 38.54%. Además, la presencia de entidades PERSON es menor en comentarios con odio (19.75%) que en comentarios sin odio (28.89%). Esto refleja que los mensajes sin odio tienden a mencionar más nombres de personas y lugares, mientras que los mensajes con odio pueden centrarse más en insultos genéricos o expresiones sin referencias concretas.\n",
    "\n",
    "- En ambos tipos de comentarios, la mayoría de palabras son masculinas singulares (ms), pero hay más palabras en plural en los comentarios con odio (mp: 18.57% vs. mp: 14.9% en sin odio).\n",
    "Esto puede indicar que los mensajes con odio tienden a generalizar más en sus afirmaciones, en lugar de dirigirse a individuos específicos.\n",
    "\n",
    "- En comentarios con odio, las palabras más comunes son insultos y términos despectivos. Por lo que el lenguaje en los comentarios con odio se centra en agresiones verbales, mientras que en los comentarios sin odio hay una mayor diversidad de temas."
   ]
  }
 ],
 "metadata": {
  "kernelspec": {
   "display_name": "Python 3",
   "language": "python",
   "name": "python3"
  },
  "language_info": {
   "codemirror_mode": {
    "name": "ipython",
    "version": 3
   },
   "file_extension": ".py",
   "mimetype": "text/x-python",
   "name": "python",
   "nbconvert_exporter": "python",
   "pygments_lexer": "ipython3",
   "version": "3.11.9"
  }
 },
 "nbformat": 4,
 "nbformat_minor": 4
}
